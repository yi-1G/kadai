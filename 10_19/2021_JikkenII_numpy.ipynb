{
 "nbformat": 4,
 "nbformat_minor": 0,
 "metadata": {
  "kernelspec": {
   "display_name": "Python 3",
   "language": "python",
   "name": "python3"
  },
  "language_info": {
   "codemirror_mode": {
    "name": "ipython",
    "version": 3
   },
   "file_extension": ".py",
   "mimetype": "text/x-python",
   "name": "python",
   "nbconvert_exporter": "python",
   "pygments_lexer": "ipython3",
   "version": "3.7.6"
  },
  "latex_envs": {
   "bibliofile": "biblio.bib",
   "cite_by": "apalike",
   "current_citInitial": 1,
   "eqLabelWithNumbers": true,
   "eqNumInitial": 0
  },
  "nav_menu": {},
  "toc": {
   "navigate_menu": true,
   "number_sections": true,
   "sideBar": true,
   "threshold": 6,
   "toc_cell": false,
   "toc_section_display": "block",
   "toc_window_display": false
  },
  "colab": {
   "name": "2021_JikkenII_numpy.ipynb",
   "provenance": [],
   "collapsed_sections": [
    "mbO1JrPHQnGB",
    "KdqIyJKNQnGC"
   ]
  }
 },
 "cells": [
  {
   "cell_type": "markdown",
   "metadata": {
    "id": "y7ep5zHsQnFz"
   },
   "source": [
    "# 2021 年度後期 実験 II 演習資料\n",
    "2021.10.19  \n",
    "岡田真  "
   ]
  },
  {
   "cell_type": "markdown",
   "metadata": {
    "id": "pvV8nwbbQnF3"
   },
   "source": [
    "# ```Numpy``` 数値演算ライブラリ"
   ]
  },
  {
   "cell_type": "markdown",
   "metadata": {
    "id": "vKgLtvPXQnF4"
   },
   "source": [
    "## 概要\n",
    "\n",
    "```Numpy```: ```Python``` で数学的計算をするためのライブラリ．  \n",
    "さまざまなところでよく使われている．  \n",
    "TensorFlow や PyTorch など Deep Learning 系のフレームワークでも使っていて，  \n",
    "行列やテンソルなどをこのライブラリの形式に準じた形で表したり，  \n",
    "相互に変換する関数が用意されている．  \n",
    "特に配列や行列を使うところ（通常はリスト）でよく使われる．  \n",
    "```Python``` の泣き所である「繰り返しの遅さ」を軽減してくれる．  \n"
   ]
  },
  {
   "cell_type": "code",
   "metadata": {
    "id": "8NpANEhnQnF4"
   },
   "source": [
    "import numpy as np # お約束として，np と名前を付けて使うことが多い"
   ],
   "execution_count": 27,
   "outputs": []
  },
  {
   "cell_type": "code",
   "metadata": {
    "id": "46tRqXo-QnF5",
    "outputId": "814e8241-63a7-453c-e20c-151e1d948e57"
   },
   "source": [
    "# 数学の関数もたくさんある\n",
    "print(np.exp(2)) # e のべき乗\n",
    "print(np.pi) # 定数 π (円周率)\n",
    "print(np.e) # 定数 e (ネイピア数)\n",
    "print(np.sin(0.5)) # 正弦関数\n",
    "print(np.sqrt(2)) # 平方根"
   ],
   "execution_count": 28,
   "outputs": [
    {
     "name": "stdout",
     "output_type": "stream",
     "text": [
      "7.38905609893065\n",
      "3.141592653589793\n",
      "2.718281828459045\n",
      "0.479425538604203\n",
      "1.4142135623730951\n"
     ]
    }
   ]
  },
  {
   "cell_type": "markdown",
   "metadata": {
    "id": "ocGaXHNVQnF6"
   },
   "source": [
    "## ```numpy``` の配列\n",
    "\n",
    "```numpy``` の配列は ```ndarray``` クラス"
   ]
  },
  {
   "cell_type": "code",
   "metadata": {
    "id": "zDgskaMSQnF7",
    "outputId": "34ebeb9c-98b4-4a50-fec7-2e10fbb39d67"
   },
   "source": [
    "a = np.array([2, 3, 5, 7, 8])\n",
    "print(a[1:3])\n",
    "print(a[2:-1])"
   ],
   "execution_count": 29,
   "outputs": [
    {
     "name": "stdout",
     "output_type": "stream",
     "text": [
      "[3 5]\n",
      "[5 7]\n"
     ]
    }
   ]
  },
  {
   "cell_type": "code",
   "metadata": {
    "id": "yWXVwubRQnF8",
    "outputId": "1fabbcd4-6e8d-4f3b-b907-9995bf910853"
   },
   "source": [
    "# arrange による連続値を要素として持つ配列の生成\n",
    "b = np.arange(5)\n",
    "c = np.arange(1, 3, 0.2) # 刻み幅を 0.2 に設定\n",
    "print(b)\n",
    "print(c)"
   ],
   "execution_count": 30,
   "outputs": [
    {
     "name": "stdout",
     "output_type": "stream",
     "text": [
      "[0 1 2 3 4]\n",
      "[1.  1.2 1.4 1.6 1.8 2.  2.2 2.4 2.6 2.8]\n"
     ]
    }
   ]
  },
  {
   "cell_type": "code",
   "metadata": {
    "id": "Vw4SXBLhQnF9",
    "outputId": "8e47d3c4-a5e5-415c-85c2-94f4dd1cfc86"
   },
   "source": [
    "# データの型 (int64, float64 など)\n",
    "print(a.dtype)\n",
    "\n",
    "d = np.array([1, 2, 3], dtype=np.float64)\n",
    "print(d.dtype)"
   ],
   "execution_count": 31,
   "outputs": [
    {
     "name": "stdout",
     "output_type": "stream",
     "text": [
      "int64\n",
      "float64\n"
     ]
    }
   ]
  },
  {
   "cell_type": "markdown",
   "metadata": {
    "id": "lcEHUVp5QnF9"
   },
   "source": [
    "## ```numpy``` の 2 次元配列\n",
    "\n",
    "リストのリストで 2 次元配列を表現する．  \n",
    "インデックス 2 個（行番号と列番号）でアクセスする.  \n",
    "（0 行目，1 行目 …… (m-1) 行目），（0 列目，1 列目，……，(n-1) 列目）"
   ]
  },
  {
   "cell_type": "code",
   "metadata": {
    "id": "lc3u-K3kQnF-",
    "outputId": "bfb19922-4107-40c9-ed08-5e0e1d01a203"
   },
   "source": [
    "a = np.array([[1, 2, 3], [4, 5, 6]])\n",
    "print(a)\n",
    "\n",
    "print(a[0,1]) # 0 行 1 列目の要素"
   ],
   "execution_count": 32,
   "outputs": [
    {
     "name": "stdout",
     "output_type": "stream",
     "text": [
      "[[1 2 3]\n",
      " [4 5 6]]\n",
      "2\n"
     ]
    }
   ]
  },
  {
   "cell_type": "markdown",
   "metadata": {
    "id": "Z7osXdDIQnF-"
   },
   "source": [
    "重要なデータ属性がある\n",
    "\n",
    "- ```shape```: 配列の形状  \n",
    "- ```ndim```: 配列の次元\n",
    "- ```size```: 要素数"
   ]
  },
  {
   "cell_type": "code",
   "metadata": {
    "id": "F0iO_Q-aQnF-",
    "outputId": "b3febf5c-333c-49af-8639-f1d9088e9222"
   },
   "source": [
    "a = np.arange(15.).reshape(3, 5) # 3 行 5 列の 2 次元行列\n",
    "print(a)\n",
    "print(a.size) # 配列の要素数\n",
    "print(a.shape) # 配列の形状\n",
    "print(a.ndim) # 配列の次元"
   ],
   "execution_count": 33,
   "outputs": [
    {
     "name": "stdout",
     "output_type": "stream",
     "text": [
      "[[ 0.  1.  2.  3.  4.]\n",
      " [ 5.  6.  7.  8.  9.]\n",
      " [10. 11. 12. 13. 14.]]\n",
      "15\n",
      "(3, 5)\n",
      "2\n"
     ]
    }
   ]
  },
  {
   "cell_type": "markdown",
   "metadata": {
    "id": "1mlzFnneQnF_"
   },
   "source": [
    "```reshape``` 関数は形状を変更できる．  \n",
    "```reshape``` は一部の値を指定しなくても形状変更できる．"
   ]
  },
  {
   "cell_type": "code",
   "metadata": {
    "id": "SwJroKkqQnF_",
    "outputId": "09012162-e3a8-4876-e3f4-9b64af922ee7"
   },
   "source": [
    "a = np.arange(16.) # 要素数 16 個\n",
    "print(a)\n",
    "\n",
    "a = a.reshape(4, -1) # 行だけ指定．列は自動設定 (-1) \n",
    "print(a)"
   ],
   "execution_count": 34,
   "outputs": [
    {
     "name": "stdout",
     "output_type": "stream",
     "text": [
      "[ 0.  1.  2.  3.  4.  5.  6.  7.  8.  9. 10. 11. 12. 13. 14. 15.]\n",
      "[[ 0.  1.  2.  3.]\n",
      " [ 4.  5.  6.  7.]\n",
      " [ 8.  9. 10. 11.]\n",
      " [12. 13. 14. 15.]]\n"
     ]
    }
   ]
  },
  {
   "cell_type": "markdown",
   "metadata": {
    "id": "hyMZYJQhQnF_"
   },
   "source": [
    "```ravel``` 関数は配列を 1 次元に戻す．  \n",
    "```reshape(-1)``` でも同様になる．"
   ]
  },
  {
   "cell_type": "code",
   "metadata": {
    "id": "lU_nwtEUQnGA",
    "outputId": "1d50845b-d083-4388-e489-6bf843582539"
   },
   "source": [
    "a = a.ravel()\n",
    "print(a)\n",
    "\n",
    "a = a.reshape(4, -1)\n",
    "print(a)\n",
    "\n",
    "a = a.reshape(-1)\n",
    "print(a)\n"
   ],
   "execution_count": 35,
   "outputs": [
    {
     "name": "stdout",
     "output_type": "stream",
     "text": [
      "[ 0.  1.  2.  3.  4.  5.  6.  7.  8.  9. 10. 11. 12. 13. 14. 15.]\n",
      "[[ 0.  1.  2.  3.]\n",
      " [ 4.  5.  6.  7.]\n",
      " [ 8.  9. 10. 11.]\n",
      " [12. 13. 14. 15.]]\n",
      "[ 0.  1.  2.  3.  4.  5.  6.  7.  8.  9. 10. 11. 12. 13. 14. 15.]\n"
     ]
    }
   ]
  },
  {
   "cell_type": "markdown",
   "metadata": {
    "id": "Q2J8Rcz0QnGA"
   },
   "source": [
    "列数だけ指定することもできる．"
   ]
  },
  {
   "cell_type": "code",
   "metadata": {
    "id": "V_5Uw2DVQnGA",
    "outputId": "8aef5c0d-8599-4821-d5cd-84f48a358743"
   },
   "source": [
    "a = np.arange(4.)\n",
    "print(a)\n",
    "\n",
    "a = a.reshape(-1, 1) # 1 列で指定\n",
    "print(a)"
   ],
   "execution_count": 36,
   "outputs": [
    {
     "name": "stdout",
     "output_type": "stream",
     "text": [
      "[0. 1. 2. 3.]\n",
      "[[0.]\n",
      " [1.]\n",
      " [2.]\n",
      " [3.]]\n"
     ]
    }
   ]
  },
  {
   "cell_type": "markdown",
   "metadata": {
    "id": "mLIrCqeoQnGB"
   },
   "source": [
    "1 次元の配列と，行数 1 の 2 次元配列は違うことに注意する"
   ]
  },
  {
   "cell_type": "code",
   "metadata": {
    "id": "Sqy7Jj9QQnGB",
    "outputId": "2b8348e4-3ea9-4f19-d71c-7d005c796fd7"
   },
   "source": [
    "a = a.reshape(-1)\n",
    "print(a)\n",
    "\n",
    "a = a.reshape(1, -1) # 1 行で指定\n",
    "print(a)"
   ],
   "execution_count": 37,
   "outputs": [
    {
     "name": "stdout",
     "output_type": "stream",
     "text": [
      "[0. 1. 2. 3.]\n",
      "[[0. 1. 2. 3.]]\n"
     ]
    }
   ]
  },
  {
   "cell_type": "markdown",
   "metadata": {
    "id": "mbO1JrPHQnGB"
   },
   "source": [
    "## いろんな配列の作成\n",
    "\n",
    "- ```zeros```: 要素がすべて 0 の配列を作る  \n",
    "- ```ones```: 要素がすべて 1 の配列を作る\n",
    "- ```empty```: 指定された形状の配列を作る（初期値は不定．空ではない場合もある）"
   ]
  },
  {
   "cell_type": "code",
   "metadata": {
    "colab": {
     "base_uri": "https://localhost:8080/",
     "height": 242
    },
    "id": "rcG5FRoGQnGC",
    "executionInfo": {
     "status": "error",
     "timestamp": 1634608701326,
     "user_tz": -540,
     "elapsed": 383,
     "user": {
      "displayName": "Makoto OKADA",
      "photoUrl": "https://lh3.googleusercontent.com/a/default-user=s64",
      "userId": "04565185767969271791"
     }
    },
    "outputId": "68e592c0-9d2e-40f0-8135-c469e956519c"
   },
   "source": [
    "a = np.zeros((3, 4))\n",
    "print(a)\n",
    "\n",
    "a = np.ones((3,4))\n",
    "print(a)"
   ],
   "execution_count": 38,
   "outputs": [
    {
     "name": "stdout",
     "output_type": "stream",
     "text": [
      "[[0. 0. 0. 0.]\n",
      " [0. 0. 0. 0.]\n",
      " [0. 0. 0. 0.]]\n",
      "[[1. 1. 1. 1.]\n",
      " [1. 1. 1. 1.]\n",
      " [1. 1. 1. 1.]]\n"
     ]
    }
   ]
  },
  {
   "cell_type": "code",
   "metadata": {
    "id": "2yHsjuGoQnGC"
   },
   "source": [
    "a = np.empty((5,5))\n",
    "print(a)"
   ],
   "execution_count": 39,
   "outputs": [
    {
     "name": "stdout",
     "output_type": "stream",
     "text": [
      "[[4.65957245e-310 0.00000000e+000 6.94424269e-310 6.94424269e-310\n",
      "  6.94424269e-310]\n",
      " [6.94424269e-310 6.94424275e-310 6.94424370e-310 6.94424269e-310\n",
      "  6.94424269e-310]\n",
      " [6.94424275e-310 6.94424360e-310 6.94424355e-310 6.94424269e-310\n",
      "  6.94424269e-310]\n",
      " [6.94424269e-310 6.94424347e-310 6.94424356e-310 6.94424369e-310\n",
      "  6.94424370e-310]\n",
      " [6.94424369e-310 6.94424361e-310 6.94424356e-310 6.94424269e-310\n",
      "  1.02765654e-321]]\n"
     ]
    }
   ]
  },
  {
   "cell_type": "markdown",
   "metadata": {
    "id": "KdqIyJKNQnGC"
   },
   "source": [
    "## 行列の連結\n",
    "行方向の連結（横に長くなる）と，列方向の連結（縦に長くなる）がある．  \n",
    "```r_[a,b]```: 列方向 (row) の連結  \n",
    "```c_[a,b]```: 行方向 (column) の連結\n",
    "\n",
    "形が合わないとエラーになるので，その場合は ```reshape``` で形をそろえてから連結する．"
   ]
  },
  {
   "cell_type": "code",
   "metadata": {
    "id": "KezJyntKQnGC",
    "outputId": "43582e93-a583-4019-e6dd-f56237dcc77c"
   },
   "source": [
    "a = np.arange(0,6).reshape(2,-1)\n",
    "b = np.arange(7,13).reshape(2,-1)\n",
    "print(a)\n",
    "print(b)"
   ],
   "execution_count": 40,
   "outputs": [
    {
     "name": "stdout",
     "output_type": "stream",
     "text": [
      "[[0 1 2]\n",
      " [3 4 5]]\n",
      "[[ 7  8  9]\n",
      " [10 11 12]]\n"
     ]
    }
   ]
  },
  {
   "cell_type": "code",
   "metadata": {
    "id": "nz5mr_QOQnGD",
    "outputId": "6788fd70-762c-4804-bee2-f14b935db79e"
   },
   "source": [
    "c = np.r_[a,b] # 列方向の連結，角カッコ ([]) に注意\n",
    "print(c)"
   ],
   "execution_count": 41,
   "outputs": [
    {
     "name": "stdout",
     "output_type": "stream",
     "text": [
      "[[ 0  1  2]\n",
      " [ 3  4  5]\n",
      " [ 7  8  9]\n",
      " [10 11 12]]\n"
     ]
    }
   ]
  },
  {
   "cell_type": "code",
   "metadata": {
    "id": "C7T0rk9HQnGD",
    "outputId": "f9a257c4-6001-4201-d80d-e143939f5b07"
   },
   "source": [
    "c = np.c_[a,b] # 行方向の連結，角カッコ ([]) に注意\n",
    "print(c)"
   ],
   "execution_count": 42,
   "outputs": [
    {
     "name": "stdout",
     "output_type": "stream",
     "text": [
      "[[ 0  1  2  7  8  9]\n",
      " [ 3  4  5 10 11 12]]\n"
     ]
    }
   ]
  },
  {
   "cell_type": "markdown",
   "metadata": {
    "id": "ov6XVgVaQnGD"
   },
   "source": [
    "# 配列の基本計算"
   ]
  },
  {
   "cell_type": "markdown",
   "metadata": {
    "id": "uCoocTLrQnGD"
   },
   "source": [
    "## 集計関数"
   ]
  },
  {
   "cell_type": "code",
   "metadata": {
    "id": "rhpZFFGQQnGD",
    "outputId": "c4feabc1-eca4-4bdb-caee-099691c3d390"
   },
   "source": [
    "a = np.arange(5.)\n",
    "print(a)\n",
    "\n",
    "print(a.sum()) # 合計\n",
    "print(a.max()) # 最大\n",
    "print(a.min()) # 最小\n",
    "print(a.mean()) # 平均"
   ],
   "execution_count": 43,
   "outputs": [
    {
     "name": "stdout",
     "output_type": "stream",
     "text": [
      "[0. 1. 2. 3. 4.]\n",
      "10.0\n",
      "4.0\n",
      "0.0\n",
      "2.0\n"
     ]
    }
   ]
  },
  {
   "cell_type": "markdown",
   "metadata": {
    "id": "Q_0VTE94QnGE"
   },
   "source": [
    "2 次元配列でもできる．  \n",
    "2 次元配列の場合は，軸を指定することもできる．"
   ]
  },
  {
   "cell_type": "code",
   "metadata": {
    "id": "9u6G-oObQnGE",
    "outputId": "5fe83c7e-39a3-4c77-bea4-bce4ace92c92"
   },
   "source": [
    "a = np.arange(9.0).reshape(3, 3)\n",
    "print(a)\n",
    "\n",
    "print(a.sum())\n",
    "print(a.max())\n",
    "print(a.min())\n",
    "print(a.mean())"
   ],
   "execution_count": 44,
   "outputs": [
    {
     "name": "stdout",
     "output_type": "stream",
     "text": [
      "[[0. 1. 2.]\n",
      " [3. 4. 5.]\n",
      " [6. 7. 8.]]\n",
      "36.0\n",
      "8.0\n",
      "0.0\n",
      "4.0\n"
     ]
    }
   ]
  },
  {
   "cell_type": "code",
   "metadata": {
    "id": "-t6p55kfQnGE",
    "outputId": "20b406ca-c70a-4d81-cebb-ec871b619345"
   },
   "source": [
    "print(a.sum(axis=0)) # 行方向（列固定）に計算，列ごとに出る\n",
    "print(a.sum(axis=1)) # 列方向（行固定）に計算，行ごとに出る"
   ],
   "execution_count": 45,
   "outputs": [
    {
     "name": "stdout",
     "output_type": "stream",
     "text": [
      "[ 9. 12. 15.]\n",
      "[ 3. 12. 21.]\n"
     ]
    }
   ]
  },
  {
   "cell_type": "markdown",
   "metadata": {
    "id": "Li2GY3gBQnGE"
   },
   "source": [
    "## ブロードキャスト\n",
    "```Numpy``` の配列には，その配列を含んで演算する場合に，  \n",
    "次元数や形状を自動的に調整する機能「ブロードキャスト」がある．"
   ]
  },
  {
   "cell_type": "code",
   "metadata": {
    "id": "Gab-Z1MVQnGE",
    "outputId": "f86bca1f-bbea-4c41-9468-c88e80b06fa8"
   },
   "source": [
    "a = np.arange(3.,8.)\n",
    "print(a)\n",
    "print(np.exp(a))\n",
    "print(np.log(a))\n",
    "print(np.sqrt(a))"
   ],
   "execution_count": 46,
   "outputs": [
    {
     "name": "stdout",
     "output_type": "stream",
     "text": [
      "[3. 4. 5. 6. 7.]\n",
      "[  20.08553692   54.59815003  148.4131591   403.42879349 1096.63315843]\n",
      "[1.09861229 1.38629436 1.60943791 1.79175947 1.94591015]\n",
      "[1.73205081 2.         2.23606798 2.44948974 2.64575131]\n"
     ]
    }
   ]
  },
  {
   "cell_type": "markdown",
   "metadata": {
    "id": "Fihb7fgzQnGF"
   },
   "source": [
    "演算が各要素に対しておこなわれていることがわかる．"
   ]
  },
  {
   "cell_type": "code",
   "metadata": {
    "id": "lj-x18hMQnGF",
    "outputId": "83a1d62f-85f6-462a-9d18-7fe8a8bac8c5"
   },
   "source": [
    "b = np.arange(9.).reshape(3, 3)\n",
    "print(b)\n",
    "\n",
    "print(np.exp(b))"
   ],
   "execution_count": 47,
   "outputs": [
    {
     "name": "stdout",
     "output_type": "stream",
     "text": [
      "[[0. 1. 2.]\n",
      " [3. 4. 5.]\n",
      " [6. 7. 8.]]\n",
      "[[1.00000000e+00 2.71828183e+00 7.38905610e+00]\n",
      " [2.00855369e+01 5.45981500e+01 1.48413159e+02]\n",
      " [4.03428793e+02 1.09663316e+03 2.98095799e+03]]\n"
     ]
    }
   ]
  },
  {
   "cell_type": "markdown",
   "metadata": {
    "id": "mdQhUZ-QQnGF"
   },
   "source": [
    "演算子や条件式にも使える．"
   ]
  },
  {
   "cell_type": "code",
   "metadata": {
    "id": "-9Zq_XkgQnGF",
    "outputId": "e2a71cad-16bf-4f4a-918e-c0f3c50b2244"
   },
   "source": [
    "# 配列とスカラの演算\n",
    "a = np.arange(5)\n",
    "print(a)\n",
    "print(a+3)\n",
    "print(a*3)\n",
    "print(a**2)\n",
    "print(a>=2)\n",
    "print(a!=3)\n"
   ],
   "execution_count": 48,
   "outputs": [
    {
     "name": "stdout",
     "output_type": "stream",
     "text": [
      "[0 1 2 3 4]\n",
      "[3 4 5 6 7]\n",
      "[ 0  3  6  9 12]\n",
      "[ 0  1  4  9 16]\n",
      "[False False  True  True  True]\n",
      "[ True  True  True False  True]\n"
     ]
    }
   ]
  },
  {
   "cell_type": "code",
   "metadata": {
    "id": "ByXMCkGSQnGF",
    "outputId": "0cfe1319-4816-454f-931d-1623508d216d"
   },
   "source": [
    "b = np.arange(9).reshape(3,3)\n",
    "print(b)\n",
    "print(b>3)"
   ],
   "execution_count": 49,
   "outputs": [
    {
     "name": "stdout",
     "output_type": "stream",
     "text": [
      "[[0 1 2]\n",
      " [3 4 5]\n",
      " [6 7 8]]\n",
      "[[False False False]\n",
      " [False  True  True]\n",
      " [ True  True  True]]\n"
     ]
    }
   ]
  },
  {
   "cell_type": "markdown",
   "metadata": {
    "id": "rSJL-cBXQnGF"
   },
   "source": [
    "リスト内包表記でも同様のことができる．  \n",
    "しかし，ブロードキャストの方が速い．"
   ]
  },
  {
   "cell_type": "markdown",
   "metadata": {
    "id": "zLRUwL2RQnGG"
   },
   "source": [
    "ブール値（```True```，```False```）を要素に持つ配列を配列の各カッコに入れると，  \n",
    "```True``` に対応する要素だけ取り出すことができる．"
   ]
  },
  {
   "cell_type": "code",
   "metadata": {
    "id": "a_8yVcBRQnGG",
    "outputId": "d6518a71-b490-46a1-aecb-8882642f4a57"
   },
   "source": [
    "a = np.array([10, 20, 30, 40])\n",
    "b = np.array([False, True, True, False])\n",
    "\n",
    "print(a[b])"
   ],
   "execution_count": 50,
   "outputs": [
    {
     "name": "stdout",
     "output_type": "stream",
     "text": [
      "[20 30]\n"
     ]
    }
   ]
  },
  {
   "cell_type": "code",
   "metadata": {
    "id": "1pNRYOKKQnGG",
    "outputId": "7f665de8-daca-4335-ccbd-d4f44d26bf93"
   },
   "source": [
    "c = np.array([[3,4,5], [6,7,8]])\n",
    "d = np.array([[False, False, True], [False, True, True]])\n",
    "print(c)\n",
    "print(d)\n",
    "print(c[d])"
   ],
   "execution_count": 51,
   "outputs": [
    {
     "name": "stdout",
     "output_type": "stream",
     "text": [
      "[[3 4 5]\n",
      " [6 7 8]]\n",
      "[[False False  True]\n",
      " [False  True  True]]\n",
      "[5 7 8]\n"
     ]
    }
   ]
  },
  {
   "cell_type": "markdown",
   "metadata": {
    "id": "jgqEYUC7QnGG"
   },
   "source": [
    "この仕組みとブロードキャストを利用して，  \n",
    "配列内のある条件に合った要素だけを抽出することができる．"
   ]
  },
  {
   "cell_type": "code",
   "metadata": {
    "id": "-QsDJuenQnGG",
    "outputId": "b75f062f-19ba-4d58-e0bb-f3eaf2d7fe19"
   },
   "source": [
    "a = np.arange(10)\n",
    "print(a)\n",
    "print(a[a>5])\n",
    "print(a[(a>=3)&(a<6)])\n",
    "print(a[(a<2) | (a>7)])\n",
    "print(a[a % 3 != 0])"
   ],
   "execution_count": 52,
   "outputs": [
    {
     "name": "stdout",
     "output_type": "stream",
     "text": [
      "[0 1 2 3 4 5 6 7 8 9]\n",
      "[6 7 8 9]\n",
      "[3 4 5]\n",
      "[0 1 8 9]\n",
      "[1 2 4 5 7 8]\n"
     ]
    }
   ]
  },
  {
   "cell_type": "markdown",
   "metadata": {
    "id": "69LdKw1YQnGG"
   },
   "source": [
    "配列でブロードキャストさせるために ```and``` や ```or``` ではなく，  \n",
    "```&``` や ```|``` を使うことに注意する"
   ]
  },
  {
   "cell_type": "markdown",
   "metadata": {
    "id": "6zn2Us-XQnGG"
   },
   "source": [
    "## 配列の演算\n",
    "1 次元配列でも 2 次元配列でも配列同士の演算ができる．  \n",
    "```np.dot()``` 関数で，2 つのベクトルの内積を計算できる．  \n",
    "2 つのベクトルの積を得てから ```sum``` で挿話を取っても同じ値になる．   "
   ]
  },
  {
   "cell_type": "markdown",
   "metadata": {
    "id": "FbxjWiwRQnGH"
   },
   "source": [
    "1 次元配列"
   ]
  },
  {
   "cell_type": "code",
   "metadata": {
    "id": "PehsAZMJQnGH",
    "outputId": "a119d085-2942-4c01-c5df-4b84a90b3e59"
   },
   "source": [
    "u = np.arange(4)\n",
    "v = np.arange(3,7)\n",
    "\n",
    "print(u)\n",
    "print(v)"
   ],
   "execution_count": 53,
   "outputs": [
    {
     "name": "stdout",
     "output_type": "stream",
     "text": [
      "[0 1 2 3]\n",
      "[3 4 5 6]\n"
     ]
    }
   ]
  },
  {
   "cell_type": "code",
   "metadata": {
    "id": "wNYMaJiQQnGH",
    "outputId": "0be9ecc0-8a77-45cf-c2c8-22a807dfb43b"
   },
   "source": [
    "print(u+v)\n",
    "print(u-v)\n",
    "print(u*v)"
   ],
   "execution_count": 54,
   "outputs": [
    {
     "name": "stdout",
     "output_type": "stream",
     "text": [
      "[3 5 7 9]\n",
      "[-3 -3 -3 -3]\n",
      "[ 0  4 10 18]\n"
     ]
    }
   ]
  },
  {
   "cell_type": "code",
   "metadata": {
    "id": "H4M27Y2gQnGH",
    "outputId": "99c7b114-d2a5-48b7-da09-cd6650d317fa"
   },
   "source": [
    "print(np.dot(u,v))\n",
    "print((u*v).sum())"
   ],
   "execution_count": 55,
   "outputs": [
    {
     "name": "stdout",
     "output_type": "stream",
     "text": [
      "32\n",
      "32\n"
     ]
    }
   ]
  },
  {
   "cell_type": "markdown",
   "metadata": {
    "id": "ClllGy4pQnGH"
   },
   "source": [
    "2 次元配列 "
   ]
  },
  {
   "cell_type": "code",
   "metadata": {
    "id": "zVd116e5QnGH",
    "outputId": "2761a03a-9585-40a8-b0b0-804f995a720c"
   },
   "source": [
    "a = np.arange(9.).reshape(3,3)\n",
    "b = np.arange(4.,13.).reshape(3,3)\n",
    "print(a)\n",
    "print(b)"
   ],
   "execution_count": 56,
   "outputs": [
    {
     "name": "stdout",
     "output_type": "stream",
     "text": [
      "[[0. 1. 2.]\n",
      " [3. 4. 5.]\n",
      " [6. 7. 8.]]\n",
      "[[ 4.  5.  6.]\n",
      " [ 7.  8.  9.]\n",
      " [10. 11. 12.]]\n"
     ]
    }
   ]
  },
  {
   "cell_type": "markdown",
   "metadata": {
    "id": "AIjSY233QnGI"
   },
   "source": [
    "四則演算は要素ごとになる．"
   ]
  },
  {
   "cell_type": "code",
   "metadata": {
    "id": "wZvH1lytQnGI",
    "outputId": "f4e6fdaf-0f64-444c-8d5c-2adfcacefa86"
   },
   "source": [
    "print(a+b)\n",
    "print(a-b)\n",
    "print(a*b)\n",
    "print(a/b)"
   ],
   "execution_count": 57,
   "outputs": [
    {
     "name": "stdout",
     "output_type": "stream",
     "text": [
      "[[ 4.  6.  8.]\n",
      " [10. 12. 14.]\n",
      " [16. 18. 20.]]\n",
      "[[-4. -4. -4.]\n",
      " [-4. -4. -4.]\n",
      " [-4. -4. -4.]]\n",
      "[[ 0.  5. 12.]\n",
      " [21. 32. 45.]\n",
      " [60. 77. 96.]]\n",
      "[[0.         0.2        0.33333333]\n",
      " [0.42857143 0.5        0.55555556]\n",
      " [0.6        0.63636364 0.66666667]]\n"
     ]
    }
   ]
  },
  {
   "cell_type": "markdown",
   "metadata": {
    "id": "uxJ13FJXQnGI"
   },
   "source": [
    "2 次元配列 ```a``` と ```b``` があったときに，  \n",
    "それぞれを行列と考えて行列積を求める方法は 3 種類．\n",
    "\n",
    "1. ```np.dot``` 関数 ```np.dot```\n",
    "2. ```a.dot(b)``` 配列 ```a``` のメソッド ```dot```\n",
    "3. ```a@b``` 行列積の演算子 ```@``` (```Python``` 3.5 から導入)"
   ]
  },
  {
   "cell_type": "code",
   "metadata": {
    "id": "Yz71h9fIQnGI",
    "outputId": "08e15cb0-003f-463c-fbbc-8a467c57f91f"
   },
   "source": [
    "print(np.dot(a,b))\n",
    "print(a.dot(b))\n",
    "print(a@b)"
   ],
   "execution_count": 58,
   "outputs": [
    {
     "name": "stdout",
     "output_type": "stream",
     "text": [
      "[[ 27.  30.  33.]\n",
      " [ 90. 102. 114.]\n",
      " [153. 174. 195.]]\n",
      "[[ 27.  30.  33.]\n",
      " [ 90. 102. 114.]\n",
      " [153. 174. 195.]]\n",
      "[[ 27.  30.  33.]\n",
      " [ 90. 102. 114.]\n",
      " [153. 174. 195.]]\n"
     ]
    }
   ]
  },
  {
   "cell_type": "markdown",
   "metadata": {
    "id": "8IjQgjn2QnGJ"
   },
   "source": [
    "形状が違う行列の積"
   ]
  },
  {
   "cell_type": "code",
   "metadata": {
    "id": "VZzXR54WQnGJ",
    "outputId": "4a191240-0e29-45db-ba78-5c8e3e6b6fc5"
   },
   "source": [
    "a = np.arange(9.).reshape(3,3)\n",
    "v = np.arange(1.,4.)\n",
    "print(a)\n",
    "print(v)"
   ],
   "execution_count": 59,
   "outputs": [
    {
     "name": "stdout",
     "output_type": "stream",
     "text": [
      "[[0. 1. 2.]\n",
      " [3. 4. 5.]\n",
      " [6. 7. 8.]]\n",
      "[1. 2. 3.]\n"
     ]
    }
   ]
  },
  {
   "cell_type": "code",
   "metadata": {
    "id": "3tOsxSXgQnGJ",
    "outputId": "6ce1ba93-abd8-44fc-b1fb-d577253ee6a3"
   },
   "source": [
    "print(np.dot(a,v))\n",
    "print(np.dot(v,a))"
   ],
   "execution_count": 60,
   "outputs": [
    {
     "name": "stdout",
     "output_type": "stream",
     "text": [
      "[ 8. 26. 44.]\n",
      "[24. 30. 36.]\n"
     ]
    }
   ]
  },
  {
   "cell_type": "markdown",
   "metadata": {
    "id": "DJMpBJUNQnGJ"
   },
   "source": [
    "配列の行数と列数を考慮して，うまく計算できるようにして計算している．"
   ]
  },
  {
   "cell_type": "code",
   "metadata": {
    "id": "dKVvuI1pQnGJ",
    "outputId": "38e839ad-d021-4270-e06c-99d952ea4628"
   },
   "source": [
    "u = v.reshape(-1, 1) # 1 列の 2 次元配列\n",
    "print(u)\n",
    "print(np.dot(a,u))"
   ],
   "execution_count": 61,
   "outputs": [
    {
     "name": "stdout",
     "output_type": "stream",
     "text": [
      "[[1.]\n",
      " [2.]\n",
      " [3.]]\n",
      "[[ 8.]\n",
      " [26.]\n",
      " [44.]]\n"
     ]
    }
   ]
  },
  {
   "cell_type": "code",
   "metadata": {
    "id": "O6UbchV5QnGJ",
    "outputId": "a150c393-b0ea-450c-ca55-52a0345e7ee4"
   },
   "source": [
    "# 順番を変えると，エラー\n",
    "print(np.dot(u,a))"
   ],
   "execution_count": 62,
   "outputs": [
    {
     "ename": "ValueError",
     "evalue": "shapes (3,1) and (3,3) not aligned: 1 (dim 1) != 3 (dim 0)",
     "output_type": "error",
     "traceback": [
      "\u001B[0;31m---------------------------------------------------------------------------\u001B[0m",
      "\u001B[0;31mValueError\u001B[0m                                Traceback (most recent call last)",
      "\u001B[0;32m/tmp/ipykernel_17795/2577421784.py\u001B[0m in \u001B[0;36m<module>\u001B[0;34m\u001B[0m\n\u001B[1;32m      1\u001B[0m \u001B[0;31m# 順番を変えると，エラー\u001B[0m\u001B[0;34m\u001B[0m\u001B[0;34m\u001B[0m\u001B[0m\n\u001B[0;32m----> 2\u001B[0;31m \u001B[0mprint\u001B[0m\u001B[0;34m(\u001B[0m\u001B[0mnp\u001B[0m\u001B[0;34m.\u001B[0m\u001B[0mdot\u001B[0m\u001B[0;34m(\u001B[0m\u001B[0mu\u001B[0m\u001B[0;34m,\u001B[0m\u001B[0ma\u001B[0m\u001B[0;34m)\u001B[0m\u001B[0;34m)\u001B[0m\u001B[0;34m\u001B[0m\u001B[0;34m\u001B[0m\u001B[0m\n\u001B[0m\u001B[1;32m      3\u001B[0m \u001B[0;34m\u001B[0m\u001B[0m\n",
      "\u001B[0;32m<__array_function__ internals>\u001B[0m in \u001B[0;36mdot\u001B[0;34m(*args, **kwargs)\u001B[0m\n",
      "\u001B[0;31mValueError\u001B[0m: shapes (3,1) and (3,3) not aligned: 1 (dim 1) != 3 (dim 0)"
     ]
    }
   ]
  },
  {
   "cell_type": "code",
   "metadata": {
    "id": "XOmOFY1NQnGK",
    "outputId": "47f12df7-bc40-48c3-d8ce-51255d18979d"
   },
   "source": [
    "w = v.reshape(1,-1) # 1 行の 2 次元配列\n",
    "print(w)\n",
    "print(np.dot(w,a))"
   ],
   "execution_count": null,
   "outputs": []
  },
  {
   "cell_type": "markdown",
   "metadata": {
    "id": "w-lBteKKQnGK"
   },
   "source": [
    "配列同士の演算における少し複雑なブロードキャスト"
   ]
  },
  {
   "cell_type": "code",
   "metadata": {
    "id": "M8TdWuPPQnGK",
    "outputId": "800a3f6e-794b-4fd6-de7c-262a89a5acd3"
   },
   "source": [
    "a = np.arange(12.).reshape(4,3) # (4,3) の 2 次元配列\n",
    "b = np.arange(3.).reshape(1,3) # (1,3) の 2 次元配列\n",
    "c = np.arange(4.).reshape(4,1) # (4,1) の 2 次元配列\n",
    "print(a)\n",
    "print(b)\n",
    "print(c)"
   ],
   "execution_count": null,
   "outputs": []
  },
  {
   "cell_type": "code",
   "metadata": {
    "id": "TnLIirJOQnGK",
    "outputId": "6d67dece-6427-4714-bb16-367f36884949"
   },
   "source": [
    "print(a+b)"
   ],
   "execution_count": null,
   "outputs": []
  },
  {
   "cell_type": "code",
   "metadata": {
    "id": "zMbDrmi1QnGK",
    "outputId": "4ae63afd-94aa-4a78-b8b4-77b039a0a0fd"
   },
   "source": [
    "print(a*c)"
   ],
   "execution_count": null,
   "outputs": []
  },
  {
   "cell_type": "code",
   "metadata": {
    "id": "rhLEH1gAQnGK",
    "outputId": "bf581544-cadc-4c8d-c05a-b38136840103"
   },
   "source": [
    "print(b-c)"
   ],
   "execution_count": null,
   "outputs": []
  },
  {
   "cell_type": "markdown",
   "metadata": {
    "id": "BFNjztMFQnGK"
   },
   "source": [
    "2 次元配列が与えられたときにそれらにに項演算子を作用させることができるのは，  \n",
    "二つの配列の形状の各次元の大きさが等しいか，片方が 1 である場合．"
   ]
  },
  {
   "cell_type": "markdown",
   "metadata": {
    "id": "D6d3lFjxQnGL"
   },
   "source": [
    "# 課題 211019-01\n",
    "\n",
    "Numpy に習熟する．\n",
    "0 から 9 までの整数を各要素に持つ 1 次元の Numpy 配列を考える．\n",
    "それらの要素はランダムに決定されるものとする．\n",
    "その配列を 2 個用意して，それぞれの間で同じ番号で値も等しい要素があるか，\n",
    "またあるならその個数は幾つかを表示するスクリプトを作りましょう．\n",
    "\n",
    "(参考)  \n",
    "https://note.nkmk.me/python-numpy-random/  \n",
    "https://note.nkmk.me/python-random-randrange-randint/"
   ]
  },
  {
   "cell_type": "code",
   "metadata": {
    "id": "eRF2aK5hQnGL"
   },
   "source": [
    "\"\"\"\n",
    "学籍番号：1191201005\n",
    "氏名：池田 祐介\n",
    "\n",
    "すべてpycharmで実行した.\n",
    "\"\"\"\n",
    "\n",
    "import numpy as np\n",
    "# 乱数\n",
    "x = np.random.rand() # 一個\n",
    "print(x)\n",
    "x = np.random.rand(3) # 要素数 3 の 1 次元配列\n",
    "print(x)\n",
    "x = np.random.rand(3, 5) # 3x5 の 2 次元配列\n",
    "print(x)"
   ],
   "execution_count": 1,
   "outputs": [
    {
     "name": "stdout",
     "output_type": "stream",
     "text": [
      "0.8026281734969138\n",
      "[0.95171483 0.9771182  0.56232917]\n",
      "[[0.08254218 0.21987802 0.41169463 0.81196786 0.57991094]\n",
      " [0.14674221 0.673046   0.869266   0.6590264  0.55471626]\n",
      " [0.34158308 0.91831835 0.04174555 0.46049501 0.8811502 ]]\n"
     ]
    }
   ]
  },
  {
   "cell_type": "code",
   "metadata": {
    "id": "qgbv1XqdQnGL"
   },
   "source": [
    "x = np.random.randint(10) # 1 個(範囲指定)\n",
    "print(x)\n",
    "\n",
    "x = np.random.randint(0, 10) # 1 個 (範囲指定 (上限下限))\n",
    "print(x)\n",
    "\n",
    "x = np.random.randint(0, 10, 5) # 複数 (範囲指定(上限下限), 個数)\n",
    "print(x)"
   ],
   "execution_count": null,
   "outputs": []
  },
  {
   "cell_type": "code",
   "metadata": {
    "id": "GiCtPrl0QnGL"
   },
   "source": [
    "a = np.array([1, 2, 3, 0, 1])\n",
    "b = np.array([0, 2, 0, 3, 1])\n",
    "\n",
    "print(a)\n",
    "print(b)\n",
    "print(a==b)\n",
    "print(a[a==b])\n"
   ],
   "execution_count": null,
   "outputs": []
  },
  {
   "cell_type": "code",
   "metadata": {
    "id": "6m29R4oUiKQV"
   },
   "source": [
    "x = np.random.randint(0, 10, 10)\n",
    "y = np.random.randint(0, 10, 10)\n",
    "print(x)\n",
    "print(y)\n",
    "print(x==y)\n",
    "print(\"\")\n",
    "print('x，yの間で同じ番号で値も等しい要素の個数:', len(x[x==y]))\n"
   ],
   "execution_count": null,
   "outputs": []
  },
  {
   "cell_type": "markdown",
   "metadata": {
    "id": "9-NbPHczSh3b"
   },
   "source": [
    "# NumPy / SciPy による線形代数"
   ]
  },
  {
   "cell_type": "markdown",
   "metadata": {
    "id": "r33zfS9sSh3b"
   },
   "source": [
    "## 逆行列"
   ]
  },
  {
   "cell_type": "markdown",
   "metadata": {
    "id": "yy7B9c8USh3c"
   },
   "source": [
    "下のベクトルを扱うことにする\n",
    "\n",
    "$$\n",
    "\\left(\\begin{array}{ccc}\n",
    "    3 & 1 & 1\\\\\n",
    "    1 & 2 & 1\\\\\n",
    "    0 & -1 & 1\n",
    "\\end{array}\\right)\n",
    "$$"
   ]
  },
  {
   "cell_type": "markdown",
   "metadata": {
    "id": "tap11bJ6Sh3c"
   },
   "source": [
    "```numpy``` の下に ```linalg``` という線形代数のためのモジュールがある．\n",
    "\n",
    "その中の ```inv``` という関数を使って上の行列の逆行列を求める．"
   ]
  },
  {
   "cell_type": "code",
   "metadata": {
    "id": "nNRpXx9pSh3d"
   },
   "source": [
    "import numpy as np"
   ],
   "execution_count": null,
   "outputs": []
  },
  {
   "cell_type": "code",
   "metadata": {
    "id": "_uzcVSDBSh3e",
    "outputId": "6de2914b-9d61-4551-ce5f-30e55fa415f6"
   },
   "source": [
    "a = np.array([[3, 1, 1], [1,2,1], [0,-1,1]])\n",
    "print(a)\n",
    "print(np.linalg.inv(a))"
   ],
   "execution_count": null,
   "outputs": []
  },
  {
   "cell_type": "markdown",
   "metadata": {
    "id": "-f9FA_X4Sh3f"
   },
   "source": [
    "試してみる"
   ]
  },
  {
   "cell_type": "code",
   "metadata": {
    "id": "pk_oEMm_Sh3f",
    "outputId": "6c4b67d3-692e-43ee-ca50-6b88fd060ee5"
   },
   "source": [
    "print(np.dot(a, np.linalg.inv(a))) # a, inv(a)\n",
    "print(np.dot(np.linalg.inv(a), a)) # inv(a), a (掛ける順序を変えてみる）"
   ],
   "execution_count": null,
   "outputs": []
  },
  {
   "cell_type": "markdown",
   "metadata": {
    "id": "sGTl6jmISh3g"
   },
   "source": [
    "大体 OK.  \n",
    "\n",
    "計算機における数値演算では，実数の計算では，計算結果が 0 でなくて 0 の近似値として非常に小さな値になるときがあることがあることを思い出そう．  "
   ]
  },
  {
   "cell_type": "markdown",
   "metadata": {
    "id": "adBsUBaQSh3g"
   },
   "source": [
    "## 連立方程式"
   ]
  },
  {
   "cell_type": "markdown",
   "metadata": {
    "id": "bfXPkPrxSh3h"
   },
   "source": [
    "次の方程式の解を数値的に求めたい．\n",
    "\n",
    "$$\n",
    "\\left(\\begin{array}{ccc}\n",
    "    3 & 1 & 1\\\\\n",
    "    1 & 2 & 1\\\\\n",
    "    0 & -1 & 1  \n",
    "\\end{array}\\right)\n",
    "\\left(\\begin{array}{c}\n",
    "    x\\\\\n",
    "    y\\\\\n",
    "    z\n",
    "\\end{array}\\right)\n",
    "=\n",
    "\\left(\\begin{array}{c}\n",
    "    1\\\\\n",
    "    2\\\\\n",
    "    3\n",
    "\\end{array}\\right)\n",
    "$$"
   ]
  },
  {
   "cell_type": "markdown",
   "metadata": {
    "id": "C1-wCN_3Sh3h"
   },
   "source": [
    "逆関数を使う？  "
   ]
  },
  {
   "cell_type": "code",
   "metadata": {
    "id": "-5npRob6Sh3h",
    "outputId": "cf0e27e5-4f31-478a-9531-180bc1fe9b26"
   },
   "source": [
    "a = np.array([[3, 1, 1], [1,2,1], [0,-1,1]])\n",
    "b = [1,2,3]\n",
    "a_inv = np.linalg.inv(a)\n",
    "print(a_inv)\n",
    "print(a@a_inv)\n",
    "print(np.dot(a_inv,b))"
   ],
   "execution_count": 70,
   "outputs": [
    {
     "name": "stdout",
     "output_type": "stream",
     "text": [
      "[[ 0.42857143 -0.28571429 -0.14285714]\n",
      " [-0.14285714  0.42857143 -0.28571429]\n",
      " [-0.14285714  0.42857143  0.71428571]]\n",
      "[[ 1.00000000e+00  5.55111512e-17  0.00000000e+00]\n",
      " [ 2.77555756e-17  1.00000000e+00  0.00000000e+00]\n",
      " [ 2.77555756e-17 -5.55111512e-17  1.00000000e+00]]\n",
      "[-0.57142857 -0.14285714  2.85714286]\n"
     ]
    }
   ]
  },
  {
   "cell_type": "markdown",
   "metadata": {
    "id": "mWHCfUgOSh3i"
   },
   "source": [
    "それでもいい，が，それよりも高速で数値的に安定な手法がある．\n",
    "\n",
    "→ 1 次方程式を解く関数 ```np.linalg.solve``` を使う"
   ]
  },
  {
   "cell_type": "code",
   "metadata": {
    "id": "xc1nwU6NSh3i",
    "outputId": "0515f63b-998b-4c98-e1e8-72e109f74f9a"
   },
   "source": [
    "a = np.array([[3, 1, 1],[1, 2, 1],[0, -1, 1]])\n",
    "b = np.array([1, 2, 3])\n",
    "print(a)\n",
    "print(b)\n",
    "print(np.linalg.solve(a,b))"
   ],
   "execution_count": 71,
   "outputs": [
    {
     "name": "stdout",
     "output_type": "stream",
     "text": [
      "[[ 3  1  1]\n",
      " [ 1  2  1]\n",
      " [ 0 -1  1]]\n",
      "[1 2 3]\n",
      "[-0.57142857 -0.14285714  2.85714286]\n"
     ]
    }
   ]
  },
  {
   "cell_type": "markdown",
   "metadata": {
    "id": "uXMWfUrKSh3i"
   },
   "source": [
    "詳細は省くが，逆行列を求めるアルゴリズムと1 次方程式を求める方程式は別．  \n",
    "1 次方程式を解く方が高速かつ数値的安定なアルゴリズムが知られている．"
   ]
  },
  {
   "cell_type": "markdown",
   "metadata": {
    "id": "vBYnwiRSSh3i"
   },
   "source": [
    "ただし，これは 1 つの方程式を解くときにだけ効果がある方法．  \n",
    "同じ係数の複数の方程式を解く場合にはあまりうまくない．\n",
    "\n",
    "どうするか？ → LU 分解で行こう．"
   ]
  },
  {
   "cell_type": "markdown",
   "metadata": {
    "id": "Y5-Efv8-Sh3j"
   },
   "source": [
    "## LU 分解  "
   ]
  },
  {
   "cell_type": "markdown",
   "metadata": {
    "id": "05siq_5KSh3j"
   },
   "source": [
    "与えらえれた $n$ 次正方行列 $\\boldsymbol A$ を 3 つの行列 $\\boldsymbol P$ : 置換行列, $\\boldsymbol L$ : 対角成分 1 の下三角行列, $\\boldsymbol U$ : 上三角行列で表す．\n",
    "\n",
    "置換行列 : 各行に 1 である成分が 1 つだけあり，他は 0 である行列  \n",
    "下三角行列 : 対角成分より右上がすべて 0 であるような行列  \n",
    "上三角行列 : 体格成分より左下がすべて 0 であるような行列"
   ]
  },
  {
   "cell_type": "markdown",
   "metadata": {
    "id": "2v-_jVfRSh3j"
   },
   "source": [
    "$\\boldsymbol L$ は対角成分が 1 であるという条件もあるので，$\\boldsymbol L$ と $\\boldsymbol U$ は次のようになる．\n",
    "\n",
    "$$\n",
    "\\boldsymbol{L}=\\left(\\begin{array}{ccccc}\n",
    " 1 &   &   &   &  \\\\\n",
    " * & 1 &   &   &   \\\\\n",
    " * & * & 1 &   &   \\\\\n",
    " \\vdots & \\vdots & \\vdots & \\ddots &  \\\\\n",
    " * & * & * & \\cdots & 1\n",
    " \\end{array}\\right)\n",
    "$$\n",
    ", \n",
    "$$\n",
    "\\boldsymbol{U}=\\left(\\begin{array}{ccccc}\n",
    " * & * & * & * & * \\\\\n",
    "   & * & *  & * & * \\\\\n",
    "   &   & \\ddots & \\vdots  & \\vdots  \\\\\n",
    "   &   &  & * & * \\\\\n",
    "   &   &   &  & * \n",
    " \\end{array}\\right)\n",
    "$$\n",
    "\n",
    "ここで $*$ はどんな値でもいいということを表す．\n",
    "\n"
   ]
  },
  {
   "cell_type": "markdown",
   "metadata": {
    "id": "rzHVHmR7Sh3j"
   },
   "source": [
    "このような $\\boldsymbol P$, $\\boldsymbol L$, $\\boldsymbol U$ を係数に持つ連立方程式は高速に解けることがわかっている．\n",
    "\n",
    "元の方程式は $\\boldsymbol Ax = \\boldsymbol b$ なので，\n",
    "\n",
    "$$\n",
    "\\boldsymbol{PLU}x = \\boldsymbol b\n",
    "$$\n",
    "\n",
    "を満たす $\\boldsymbol x$ を求めればいい．"
   ]
  },
  {
   "cell_type": "markdown",
   "metadata": {
    "id": "3GH5ELr4Sh3k"
   },
   "source": [
    "そのために，次の方程式を解く\n",
    "$$\n",
    "\\boldsymbol{Pz} = \\boldsymbol b\\\\\n",
    "\\boldsymbol{Ly} = \\boldsymbol z\\\\\n",
    "\\boldsymbol{Ux} = \\boldsymbol y\n",
    "$$"
   ]
  },
  {
   "cell_type": "markdown",
   "metadata": {
    "id": "CLUX7HKhSh3k"
   },
   "source": [
    "これで求められた $\\boldsymbol x$ はもとの連立方程式の解になる．  \n",
    "それぞれの方程式は効率的に解ける  \n",
    "3 つの方程式の計算量 $\\simeq$ n 次正方行列とベクトルとの積の計算量  \n",
    "\n",
    "LU 分解のための計算量 $<$ $\\boldsymbol{A}^{-1}$ を求める計算量\n",
    "\n",
    "なので，LU 分解は $\\boldsymbol A$ の逆行列を求めて解くよりも効率的\n"
   ]
  },
  {
   "cell_type": "markdown",
   "metadata": {
    "id": "6yRPrrZcSh3k"
   },
   "source": [
    "実際には，```SciPy``` に入っている LU 分解の関数 ```linalg.lu_factore``` と ```linalg.lu_solve``` を使えばよい．"
   ]
  },
  {
   "cell_type": "code",
   "metadata": {
    "id": "GViYxAjoSh3k",
    "outputId": "ecc05f58-f0c6-497c-9cc1-4cb2fde42670"
   },
   "source": [
    "a = np.array([[3,1,1], [1,2,1], [0,-1,1]])\n",
    "b = np.array([1, 2, 3])\n",
    "\n",
    "from scipy import linalg # scipy.linalg のインポート\n",
    "\n",
    "lu, p = linalg.lu_factor(a)\n",
    "\n",
    "print(lu) # 上三角部分が U, 下三角部分（対角成分除く）が L\n",
    "print(p)\n",
    "\n",
    "print(linalg.lu_solve((lu,p), b))"
   ],
   "execution_count": null,
   "outputs": []
  },
  {
   "cell_type": "markdown",
   "metadata": {
    "id": "r_13h_Y3Sh3l"
   },
   "source": [
    "注意： ```numpy.linalg``` でなくて，```scipy.linalg``` を使っている\n",
    "\n",
    "関数 ```lu_factor``` は LU 分解をして $\\boldsymbol L$, $\\boldsymbol U$, $\\boldsymbol P$ に相当する行列を返す．  \n",
    "$\\boldsymbol L$ と $\\boldsymbol U$ は 1 つの行列で表されて，戻り値は二つの行列のタプルになっている．  \n",
    "\n",
    "関数 ```lu_solve``` は ```lu_factor``` の戻り値とベクトル $\\boldsymbol b$ にあたる配列を受け取り，解を求める．\n",
    "\n"
   ]
  },
  {
   "cell_type": "code",
   "metadata": {
    "id": "j30__vxXSh3l",
    "outputId": "ec6dc05d-5a74-4930-aeb8-ad9d39f88dc3"
   },
   "source": [
    "a = np.array([[1,2,1], [0,-1,1],[3,1,1]])\n",
    "b = np.array([2, 3, 1])\n",
    "\n",
    "from scipy import linalg # scipy.linalg のインポート\n",
    "\n",
    "lu, p = linalg.lu_factor(a)\n",
    "\n",
    "print(lu) # 上三角部分が U, 下三角部分（対角成分除く）が L\n",
    "print(p)\n",
    "\n",
    "print(linalg.lu_solve((lu,p), b))"
   ],
   "execution_count": null,
   "outputs": []
  },
  {
   "cell_type": "code",
   "metadata": {
    "id": "mKwfbS_ASh3l",
    "outputId": "832cd53d-daa8-4ff8-f52e-a18d9c6e0859"
   },
   "source": [
    "a = np.array([[3,1,1], [0,-1,1], [1,2,1]])\n",
    "b = np.array([1, 3, 2])\n",
    "\n",
    "from scipy import linalg # scipy.linalg のインポート\n",
    "\n",
    "lu, p = linalg.lu_factor(a)\n",
    "\n",
    "print(lu) # 上三角部分が U, 下三角部分（対角成分除く）が L\n",
    "print(p)\n",
    "\n",
    "print(linalg.lu_solve((lu,p), b))"
   ],
   "execution_count": null,
   "outputs": []
  },
  {
   "cell_type": "markdown",
   "metadata": {
    "id": "wC8hFfxJSh3m"
   },
   "source": [
    "## 線形代数の練習問題\n",
    "```Numpy```, ```SciPy``` で解こう．"
   ]
  },
  {
   "cell_type": "markdown",
   "metadata": {
    "id": "xF6FMvgXSh3m"
   },
   "source": [
    "## 問題 211019-02\n",
    "下の行列の逆行列を求めよう．それが正しいことを自分で確認しよう．\n",
    "```Numpy``` の ```np.linalg.inv()``` を使おう．"
   ]
  },
  {
   "cell_type": "markdown",
   "metadata": {
    "id": "AP8jeW7jSh3m"
   },
   "source": [
    "$$\n",
    "(1)~~\n",
    "\\left(\n",
    "    \\begin{array}{cc}\n",
    "        3 & 5 \\\\\n",
    "        4 & 7 \\\\\n",
    "    \\end{array}\n",
    "\\right)\n",
    "$$\n",
    "  \n",
    "$$\n",
    "(2)~~~ \n",
    "\\left(\n",
    "    \\begin{array}{ccc}\n",
    "    2 & 1 & 3 \\\\\n",
    "    4 & 5 & 4 \\\\\n",
    "    3 & 1 & 5\n",
    "    \\end{array}\n",
    "\\right)\n",
    "$$"
   ]
  },
  {
   "cell_type": "code",
   "execution_count": null,
   "outputs": [],
   "source": [
    "a1 = np.array([[3,5],[4,7]])\n",
    "a2 = np.array([[2,1,3],[4,5,4],[3,1,5]])\n",
    "print(\"a1\\n\", a1)\n",
    "print(\"a2\\n\", a2)\n",
    "a1_inv = np.linalg.inv(a1)\n",
    "a2_inv = np.linalg.inv(a2)\n",
    "print(\"\\na1_inv\\n\", a1_inv)\n",
    "print(\"a2_inv\\n\", a2_inv)"
   ],
   "metadata": {
    "collapsed": false,
    "pycharm": {
     "name": "#%%\n"
    }
   }
  },
  {
   "cell_type": "markdown",
   "metadata": {
    "id": "DjBQxFiKSh3m"
   },
   "source": [
    "## 問題 211019-03\n",
    "下の 2 次方程式の解を求めよう．それが正しいことを自分で確認しよう．\n",
    "```Scipy``` の ```linalg.lu_factor()``` と ```linalg.lu_solve()``` を使おう．\n",
    "\n",
    "```Numpy``` の ```np.linalg.inv()``` で求めた逆行列を使った方法でも確認してみよう"
   ]
  },
  {
   "cell_type": "markdown",
   "metadata": {
    "id": "oKz9vAE6Sh3m"
   },
   "source": [
    "$$\n",
    "(1)~~\n",
    "\\left(\n",
    "    \\begin{array}{ccc}\n",
    "    2 & 1 & 3 \\\\\n",
    "    4 & 5 & 4 \\\\\n",
    "    3 & 1 & 5\n",
    "    \\end{array}\n",
    "\\right)\n",
    "\\left(\n",
    "    \\begin{array}{c}\n",
    "    x_{0}\\\\\n",
    "    x_{1}\\\\\n",
    "    x_{2}\n",
    "    \\end{array}\n",
    "\\right)\n",
    "=\n",
    "\\left(\n",
    "    \\begin{array}{c}\n",
    "    0\\\\\n",
    "    -2\\\\\n",
    "    1\n",
    "    \\end{array}\n",
    "\\right)\n",
    "$$  \n",
    "$$\n",
    "(2)~~~\n",
    "\\left(\n",
    "    \\begin{array}{cccc}\n",
    "    8 & 16 & 24 & 32 \\\\\n",
    "    2 & 7 & 12 & 17 \\\\\n",
    "    6 & 17 & 32 & 59 \\\\\n",
    "    7 & 22 & 46 & 105\n",
    "    \\end{array}\n",
    "\\right)\n",
    "\\left(\n",
    "    \\begin{array}{c}\n",
    "    x_{0}\\\\\n",
    "    x_{1}\\\\\n",
    "    x_{2}\\\\\n",
    "    x_{3}\n",
    "    \\end{array}\n",
    "\\right)\n",
    "=\n",
    "\\left(\n",
    "    \\begin{array}{c}\n",
    "    160\\\\\n",
    "    70\\\\\n",
    "    198\\\\\n",
    "    291\n",
    "    \\end{array}\n",
    "\\right)\n",
    "$$"
   ]
  },
  {
   "cell_type": "code",
   "execution_count": 73,
   "outputs": [
    {
     "name": "stdout",
     "output_type": "stream",
     "text": [
      "(1)\n",
      "[[2 1 3]\n",
      " [4 5 4]\n",
      " [3 1 5]]\n",
      "[ 0 -1  2]\n",
      "\n",
      "解\n",
      "np.linalg.solve: [-20.   7.  11.]\n",
      "逆行列(np.linalg.inv): [-20.   7.  11.]\n",
      "\n",
      "(2)\n",
      "[[  8  16  24  32]\n",
      " [  2   7  12  17]\n",
      " [  6  17  32  50]\n",
      " [  7  22  46 105]]\n",
      "[160  70 198 291]\n",
      "\n",
      "解\n",
      "np.linalg.solve: [ 6.78761062 -3.2920354   6.22123894  0.28318584]\n",
      "逆行列(np.linalg.inv): [ 6.78761062 -3.2920354   6.22123894  0.28318584]\n"
     ]
    }
   ],
   "source": [
    "a1 = np.array([[2, 1, 3],[4, 5, 4],[3, 1, 5]])\n",
    "b1 = np.array([0, -1, 2])\n",
    "a2 = np.array([[8,16,24,32],[2,7,12,17],[6,17,32,50],[7,22,46,105]])\n",
    "b2 = np.array([160,70,198,291])\n",
    "print(\"(1)\")\n",
    "print(a1)\n",
    "print(b1)\n",
    "print(\"\\n解\")\n",
    "print(\"np.linalg.solve:\", np.linalg.solve(a1,b1))\n",
    "print(\"逆行列(np.linalg.inv):\", np.dot(np.linalg.inv(a1),b1))\n",
    "print(\"\\n(2)\")\n",
    "print(a2)\n",
    "print(b2)\n",
    "print(\"\\n解\")\n",
    "print(\"np.linalg.solve:\", np.linalg.solve(a2,b2))\n",
    "print(\"逆行列(np.linalg.inv):\", np.dot(np.linalg.inv(a2),b2))"
   ],
   "metadata": {
    "collapsed": false,
    "pycharm": {
     "name": "#%%\n"
    }
   }
  }
 ]
}