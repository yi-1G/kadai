{
 "nbformat": 4,
 "nbformat_minor": 0,
 "metadata": {
  "colab": {
   "name": "JikkenII20211019_01.ipynb",
   "provenance": [],
   "collapsed_sections": []
  },
  "kernelspec": {
   "name": "python3",
   "language": "python",
   "display_name": "Python 3 (ipykernel)"
  },
  "language_info": {
   "name": "python"
  }
 },
 "cells": [
  {
   "cell_type": "markdown",
   "metadata": {
    "id": "y9XmF6ZJQ7F8"
   },
   "source": [
    "# 実験 II 演習\n",
    "\n",
    "言語処理 100 本ノックの「第 1 章: 準備運動」で言語処理の\n",
    "基本的な前処理手法に慣れる．"
   ]
  },
  {
   "cell_type": "markdown",
   "metadata": {
    "id": "FvsjIAKrQ9UD"
   },
   "source": [
    "# 00. 文字列の逆順\n",
    "文字列”stressed”の文字を逆に（末尾から先頭に向かって）並べた文字列を得よ．"
   ]
  },
  {
   "cell_type": "code",
   "metadata": {
    "id": "CY6U7NUEQ3-x"
   },
   "source": [
    "\"\"\"\n",
    "学籍番号：1191201005\n",
    "氏名：池田 祐介\n",
    "\n",
    "すべてpycharmで実行した.\n",
    "\"\"\"\n",
    "\n",
    "s = \"stressed\"\n",
    "s_inv = \"\"\n",
    "for i in range(len(s)-1, -1, -1):\n",
    "    s_inv += s[i]\n",
    "print(s_inv)"
   ],
   "execution_count": 1,
   "outputs": [
    {
     "name": "stdout",
     "output_type": "stream",
     "text": [
      "desserts\n"
     ]
    }
   ]
  },
  {
   "cell_type": "markdown",
   "metadata": {
    "id": "Iguu8pAeU4_6"
   },
   "source": [
    "# 01. 「パタトクカシーー」\n",
    "「パタトクカシーー」という文字列の1,3,5,7文字目を取り出して連結した文字列を得よ．"
   ]
  },
  {
   "cell_type": "code",
   "metadata": {
    "id": "ATQaS1bCXl6V"
   },
   "source": [
    "s = \"パタトクカシーー\"\n",
    "s1357 = \"\"\n",
    "for i in range(0, len(s), 2):\n",
    "    s1357 += s[i]\n",
    "print(s1357)"
   ],
   "execution_count": 2,
   "outputs": [
    {
     "name": "stdout",
     "output_type": "stream",
     "text": [
      "パトカー\n"
     ]
    }
   ]
  },
  {
   "cell_type": "markdown",
   "metadata": {
    "id": "rZt4YUDgU6jl"
   },
   "source": [
    "# 02. 「パトカー」＋「タクシー」＝「パタトクカシーー」\n",
    "「パトカー」＋「タクシー」の文字を先頭から交互に連結して文字列「パタトクカシーー」を得よ．"
   ]
  },
  {
   "cell_type": "code",
   "metadata": {
    "id": "yOzUgVdaXme7"
   },
   "source": [
    "s1 = \"パトカー\"\n",
    "s2 = \"タクシー\"\n",
    "s12 = \"\"\n",
    "for i in range(0, len(s1)):\n",
    "    s12 += s1[i]\n",
    "    s12 += s2[i]\n",
    "print(s12)"
   ],
   "execution_count": 3,
   "outputs": [
    {
     "name": "stdout",
     "output_type": "stream",
     "text": [
      "パタトクカシーー\n"
     ]
    }
   ]
  },
  {
   "cell_type": "markdown",
   "metadata": {
    "id": "AgaNkAo0U6nW"
   },
   "source": [
    "# 03. 円周率\n",
    "“Now I need a drink, alcoholic of course, after the heavy lectures involving quantum mechanics.”という文を単語に分解し，各単語の（アルファベットの）文字数を先頭から出現順に並べたリストを作成せよ．"
   ]
  },
  {
   "cell_type": "code",
   "metadata": {
    "id": "ny1tde0FXnKB"
   },
   "source": [
    "s = \"Now I need a drink, alcoholic of course, after the heavy lectures involving quantum mechanics.\"\n",
    "\n",
    "# 語数のカウント\n",
    "words = 1\n",
    "for c in s:\n",
    "    if c==\" \":\n",
    "        words += 1\n",
    "word = [\"\"] * words\n",
    "\n",
    "# 配列に単語を追加\n",
    "j = 0\n",
    "for i in range(len(s)):\n",
    "    if s[i]==\" \":\n",
    "        j += 1\n",
    "        continue\n",
    "    if s[i]!=\",\" and s[i]!=\".\":\n",
    "        word[j] += s[i]\n",
    "\n",
    "# 表示\n",
    "for w in word:\n",
    "    if w != \"\":\n",
    "        print(w, len(w))"
   ],
   "execution_count": 4,
   "outputs": [
    {
     "name": "stdout",
     "output_type": "stream",
     "text": [
      "Now 3\n",
      "I 1\n",
      "need 4\n",
      "a 1\n",
      "drink 5\n",
      "alcoholic 9\n",
      "of 2\n",
      "course 6\n",
      "after 5\n",
      "the 3\n",
      "heavy 5\n",
      "lectures 8\n",
      "involving 9\n",
      "quantum 7\n",
      "mechanics 9\n"
     ]
    }
   ]
  },
  {
   "cell_type": "markdown",
   "metadata": {
    "id": "cquzeSfXU6qm"
   },
   "source": [
    "# 04. 元素記号\n",
    "“Hi He Lied Because Boron Could Not Oxidize Fluorine. New Nations Might Also Sign Peace Security Clause. Arthur King Can.”という文を単語に分解し，1, 5, 6, 7, 8, 9, 15, 16, 19番目の単語は先頭の1文字，それ以外の単語は先頭の2文字を取り出し，取り出した文字列から単語の位置（先頭から何番目の単語か）への連想配列（辞書型もしくはマップ型）を作成せよ．"
   ]
  },
  {
   "cell_type": "code",
   "metadata": {
    "id": "Z7HL52CtXn0E"
   },
   "source": [
    "s = \"Hi He Lied Because Boron Could Not Oxidize Fluorine. New Nations Might Also Sign Peace Security Clause. Arthur King Can.\"\n",
    "\n",
    "# 語数のカウント\n",
    "words = 1\n",
    "for c in s:\n",
    "    if c==\" \":\n",
    "        words += 1\n",
    "word = [\"\"] * words\n",
    "\n",
    "# 配列に追加\n",
    "j = 0\n",
    "for i in range(0, len(s)):\n",
    "    if s[i]==\" \":\n",
    "        j += 1\n",
    "        continue\n",
    "    if s[i]!=\",\" and s[i]!=\".\":\n",
    "        word[j] += s[i]\n",
    "\n",
    "# 辞書の作成\n",
    "l = [1, 5, 6, 7, 8, 9, 15, 16, 19]\n",
    "d = {}\n",
    "key = \"\"\n",
    "for i in range(len(word)):\n",
    "    if i+1 in l:\n",
    "        key = word[i][0]\n",
    "        d[key] = word[i]\n",
    "        continue\n",
    "    else:\n",
    "        key = word[i][0] + word[i][1]\n",
    "        d[key] = word[i]\n",
    "\n",
    "print(d) # 表示\n",
    "\n"
   ],
   "execution_count": 5,
   "outputs": [
    {
     "name": "stdout",
     "output_type": "stream",
     "text": [
      "{'H': 'Hi', 'He': 'He', 'Li': 'Lied', 'Be': 'Because', 'B': 'Boron', 'C': 'Could', 'N': 'Not', 'O': 'Oxidize', 'F': 'Fluorine', 'Ne': 'New', 'Na': 'Nations', 'Mi': 'Might', 'Al': 'Also', 'Si': 'Sign', 'P': 'Peace', 'S': 'Security', 'Cl': 'Clause', 'Ar': 'Arthur', 'K': 'King', 'Ca': 'Can'}\n"
     ]
    }
   ]
  },
  {
   "cell_type": "markdown",
   "metadata": {
    "id": "phD3-CphU6uK"
   },
   "source": [
    "# 05. n-gram\n",
    "与えられたシーケンス（文字列やリストなど）からn-gramを作る関数を作成せよ．この関数を用い，”I am an NLPer”という文から単語bi-gram，文字bi-gramを得よ．\n",
    "\n",
    "\n",
    "n-gram とは n 個のデータの連接である．  \n",
    "1-gram, 2-gram, 3-gram, ..., n-gram となる．\n",
    "一般に 1-gram, 2-gram, 3-gram をそれぞれ uni-gram, bi-gram, tri-gram と書く．  \n",
    "それぞれ「ユニグラム」，「バイグラム」，「トライグラム」と読む．  \n",
    "単語 n-gram は単語を単位とした連接，文字 n-gram は文字を単位とした連接である．  \n",
    "\"I saw a girl with a telescope.\" という文があったとしたら，  \n",
    "単語 uni-gram は \"I\", \"saw\", \"a\",...,\"telescope.\"，  \n",
    "文字 uni-gram は \"I\", \" \", \"s\", \"a\", \"w\",...,\".\"，  \n",
    "単語 bi-gram は \"I saw\", \"saw a\", \"a girl\",..., \"a telescope.\"，  \n",
    "文字 bi-gram は \"I \", \" s\", \"sa\", \"aw\", \"w \", \" a\",...,\"e.\"  \n",
    "となる．"
   ]
  },
  {
   "cell_type": "code",
   "metadata": {
    "id": "DiRBqyXkXoXb"
   },
   "source": [
    "s = \"I am an NLPer\"\n",
    "print(s)\n",
    "\n",
    "# 語数のカウント\n",
    "words = 1\n",
    "for c in s:\n",
    "    if c==\" \":\n",
    "        words += 1\n",
    "word = [\"\"] * words\n",
    "\n",
    "# 配列に追加\n",
    "j = 0\n",
    "for i in range(0, len(s)):\n",
    "    if s[i]==\" \":\n",
    "        j += 1\n",
    "        continue\n",
    "    if s[i]!=\",\" and s[i]!=\".\": # \",\"や\".\"も含める場合はここを変える\n",
    "        word[j] += s[i]\n",
    "\n",
    "\n",
    "# 単語 bi-gram\n",
    "word_bi = [\"\"]*(len(word)-1)\n",
    "for i in range(len(word)-1):\n",
    "    word_bi[i] += word[i]\n",
    "    word_bi[i] += \" \"\n",
    "    word_bi[i] += word[i+1]\n",
    "print(\"\\n単語 bi-gram\")\n",
    "print(word_bi)\n",
    "\n",
    "# 文字 bi-gram\n",
    "char_bi = [\"\"]*(len(s)-1)\n",
    "for i in range(len(s)-1):\n",
    "    char_bi[i] += s[i]\n",
    "    char_bi[i] += s[i+1]\n",
    "print(\"\\n文字 bi-gram\")\n",
    "print(char_bi)\n"
   ],
   "execution_count": 6,
   "outputs": [
    {
     "name": "stdout",
     "output_type": "stream",
     "text": [
      "I am an NLPer\n",
      "\n",
      "単語 bi-gram\n",
      "['I am', 'am an', 'an NLPer']\n",
      "\n",
      "文字 bi-gram\n",
      "['I ', ' a', 'am', 'm ', ' a', 'an', 'n ', ' N', 'NL', 'LP', 'Pe', 'er']\n"
     ]
    }
   ]
  },
  {
   "cell_type": "markdown",
   "metadata": {
    "id": "YDfI939SU6xc"
   },
   "source": [
    "# 06. 集合\n",
    "“paraparaparadise”と”paragraph”に含まれる文字bi-gramの集合を，それぞれ, XとYとして求め，XとYの和集合，積集合，差集合を求めよ．さらに，’se’というbi-gramがXおよびYに含まれるかどうかを調べよ．\n"
   ]
  },
  {
   "cell_type": "code",
   "metadata": {
    "id": "HoiaqlAxXo4i"
   },
   "source": [
    "s1 = \"paraparaparadise\"\n",
    "s2 = \"paragraph\"\n",
    "print(\"s1:\", s1)\n",
    "print(\"s2:\", s2)\n",
    "\n",
    "s1_char_bi = [\"\"]*(len(s1)-1)\n",
    "for i in range(len(s1)-1):\n",
    "    s1_char_bi[i] += s1[i]\n",
    "    s1_char_bi[i] += s1[i+1]\n",
    "\n",
    "\n",
    "s2_char_bi = [\"\"]*(len(s2)-1)\n",
    "for i in range(len(s2)-1):\n",
    "    s2_char_bi[i] += s2[i]\n",
    "    s2_char_bi[i] += s2[i+1]\n",
    "\n",
    "\n",
    "X = set(s1_char_bi)\n",
    "Y = set(s2_char_bi)\n",
    "print(\"X:\", X)\n",
    "print(\"Y:\", Y)\n",
    "\n",
    "print(\"和集合 X+Y:\", X|Y)\n",
    "print(\"差集合 X-Y:\", X-Y)\n",
    "print(\"差集合 Y-X:\", Y-X)\n",
    "print(\"積集合 X&Y:\", X&Y)"
   ],
   "execution_count": 7,
   "outputs": [
    {
     "name": "stdout",
     "output_type": "stream",
     "text": [
      "s1: paraparaparadise\n",
      "s2: paragraph\n",
      "X: {'ra', 'pa', 'ad', 'ap', 'is', 'ar', 'di', 'se'}\n",
      "Y: {'ra', 'pa', 'gr', 'ap', 'ag', 'ar', 'ph'}\n",
      "和集合 X+Y: {'ra', 'pa', 'ad', 'gr', 'ap', 'ag', 'is', 'ar', 'di', 'se', 'ph'}\n",
      "差集合 X-Y: {'se', 'ad', 'di', 'is'}\n",
      "差集合 Y-X: {'gr', 'ph', 'ag'}\n",
      "積集合 X&Y: {'ra', 'pa', 'ap', 'ar'}\n"
     ]
    }
   ]
  },
  {
   "cell_type": "markdown",
   "metadata": {
    "id": "JYFmhUeJU60l"
   },
   "source": [
    "# 07. テンプレートによる文生成\n",
    "引数x, y, zを受け取り「x時のyはz」という文字列を返す関数を実装せよ．さらに，x=12, y=”気温”, z=22.4として，実行結果を確認せよ．"
   ]
  },
  {
   "cell_type": "code",
   "metadata": {
    "id": "be6nsZPGXpZt"
   },
   "source": [
    "def temperture(x, y, z):\n",
    "    tmp = str(x) + \"時の\" + y + \"は\" + str(z)\n",
    "    return tmp\n",
    "\n",
    "print(temperture(12, \"気温\", 22.4))"
   ],
   "execution_count": 8,
   "outputs": [
    {
     "name": "stdout",
     "output_type": "stream",
     "text": [
      "12時の気温は22.4\n"
     ]
    }
   ]
  },
  {
   "cell_type": "markdown",
   "metadata": {
    "id": "3QxMgUbHU63n"
   },
   "source": [
    "# 08. 暗号文\n",
    "与えられた文字列の各文字を，以下の仕様で変換する関数cipherを実装せよ．\n",
    "\n",
    "英小文字ならば(219 - 文字コード)の文字に置換\n",
    "その他の文字はそのまま出力\n",
    "この関数を用い，英語のメッセージを暗号化・復号化せよ．"
   ]
  },
  {
   "cell_type": "code",
   "metadata": {
    "id": "v6W4xEXZXpxp"
   },
   "source": [
    "def ciphper(li):\n",
    "    cip = \"\"\n",
    "    tmp = \"\"\n",
    "    for ch in li:\n",
    "        if ch.islower():\n",
    "            tmp = chr(219-ord(c))\n",
    "        cip += tmp\n",
    "    return cip\n",
    "\n",
    "ex = \"I am an NLPer\"\n",
    "print(ciphper(ex))"
   ],
   "execution_count": 9,
   "outputs": [
    {
     "name": "stdout",
     "output_type": "stream",
     "text": [
      "iiiiiiiiiii\n"
     ]
    }
   ]
  },
  {
   "cell_type": "markdown",
   "metadata": {
    "id": "Qx9iNoBjU66i"
   },
   "source": [
    "# 09. Typoglycemia\n",
    "スペースで区切られた単語列に対して，各単語の先頭と末尾の文字は残し，それ以外の文字の順序をランダムに並び替えるプログラムを作成せよ．ただし，長さが４以下の単語は並び替えないこととする．適当な英語の文（例えば”I couldn’t believe that I could actually understand what I was reading : the phenomenal power of the human mind .”）を与え，その実行結果を確認せよ．"
   ]
  },
  {
   "cell_type": "code",
   "metadata": {
    "id": "uLfZb3RRXqTJ"
   },
   "source": [
    "import random as rd\n",
    "\n",
    "s = \"I couldn’t believe that I could actually understand what I was reading : the phenomenal power of the human mind .\"\n",
    "\n",
    "def random_c(x):\n",
    "    tmp = x[0]\n",
    "    shffl = []\n",
    "    for k in range(1, len(x)-1):\n",
    "        shffl += x[k]\n",
    "    rd.shuffle(shffl)\n",
    "    for k in shffl:\n",
    "        tmp += k\n",
    "    tmp += x[len(x)-1]\n",
    "    return tmp\n",
    "\n",
    "# 語数のカウント\n",
    "words = 1\n",
    "for c in s:\n",
    "    if c==\" \":\n",
    "        words += 1\n",
    "word = [\"\"] * words\n",
    "\n",
    "# 配列に追加\n",
    "j = 0\n",
    "for i in range(0, len(s)):\n",
    "    if s[i]==\" \":\n",
    "        j += 1\n",
    "        continue\n",
    "    if s[i]!=\",\" and s[i]!=\".\":\n",
    "        word[j] += s[i]\n",
    "random_s = \"\"\n",
    "for w in word:\n",
    "    if len(w) > 4:\n",
    "         random_s += random_c(w)\n",
    "    else:\n",
    "        random_s += w\n",
    "    random_s += \" \"\n",
    "\n",
    "random_s += \".\"\n",
    "print(random_s)\n"
   ],
   "execution_count": 10,
   "outputs": [
    {
     "name": "stdout",
     "output_type": "stream",
     "text": [
      "I c’lodnut beleive that I cluod actually urentandsd what I was rdianeg : the penohenaml pwoer of the haumn mind  .\n"
     ]
    }
   ]
  }
 ]
}